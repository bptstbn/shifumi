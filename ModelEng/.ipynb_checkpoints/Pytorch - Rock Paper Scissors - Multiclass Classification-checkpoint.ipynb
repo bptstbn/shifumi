{
 "cells": [
  {
   "cell_type": "markdown",
   "metadata": {},
   "source": [
    "# Rock Paper Scissors - Pytorch Multiclass Classifier\n",
    "In this workbook we illustrate multi-class image classification of the [Rock Paper Scissors dataset](https://www.kaggle.com/drgfreeman/rockpaperscissors), which is downloaded from Kaggle from the above URL. You'll need to login with your Kaggle ID to download the dataset. The data was downloaded and un-zipped to the `./data/RockPaperScissors` folder"
   ]
  },
  {
   "cell_type": "code",
   "execution_count": 1,
   "metadata": {
    "colab": {
     "base_uri": "https://localhost:8080/"
    },
    "id": "gptA1_89HLXQ",
    "outputId": "75b3aef9-b5f6-4969-90f5-f925c6dab57f"
   },
   "outputs": [
    {
     "name": "stdout",
     "output_type": "stream",
     "text": [
      "MODEL_SAVE_DIR = .\\model_states\n"
     ]
    }
   ],
   "source": [
    "# Connect to Google drive, so I can import modules from it into my workspace\n",
    "# set this flag to True when you run this Notebook on Google Collaboratory\n",
    "USE_COLAB = False\n",
    "\n",
    "import os\n",
    "\n",
    "#@see: https://colab.research.google.com/drive/1srw_HFWQ2SMgmWIawucXfusGzrj1_U0q\n",
    "if USE_COLAB:\n",
    "    # Load the Drive helper and mount\n",
    "    from google.colab import drive\n",
    "\n",
    "    # This will prompt for authorization.\n",
    "    gdrive_mount_point = '/content/drive/'\n",
    "    drive.mount(gdrive_mount_point)\n",
    "    grive_path = os.path.join(gdrive_mount_point, \"My Drive/\")\n",
    "    print('Your Google Drive is mounted at ', grive_path)\n",
    "    COLAB_NOTEBOOKS_PATH = os.path.join(grive_path, \"Colab Notebooks/\")\n",
    "    \n",
    "    if os.path.exists(COLAB_NOTEBOOKS_PATH):    \n",
    "        # display list of files\n",
    "        #!ls '/content/drive/My Drive/Colab Notebooks/'\n",
    "\n",
    "        # append our Google Drive folder to module search \n",
    "        # **NOTE:** comment this line out if you are NOT running this notebook on Google Colab\n",
    "        import sys\n",
    "        #sys.path.append(\"/content/drive/My Drive/Colab Notebooks/\")\n",
    "        pyt_path = os.path.join(COLAB_NOTEBOOKS_PATH, 'pytorch')\n",
    "        sys.path.append(pyt_path)\n",
    "        print('You Pytorch Colab notebooks are available at ', pyt_path)\n",
    "        print('NOTE: {} is appended to sys.path!'.format(pyt_path))\n",
    "        # and test it\n",
    "        import pytorch_toolkit as pyt\n",
    "        MODEL_SAVE_DIR = os.path.join(pyt_path, 'model_states')\n",
    "    else:\n",
    "        raise IOError(\"Unable to mount Google Drive!\")\n",
    "else:\n",
    "    MODEL_SAVE_DIR = os.path.join('.','model_states')\n",
    "    \n",
    "if not os.path.exists(MODEL_SAVE_DIR):\n",
    "    os.mkdir(MODEL_SAVE_DIR)\n",
    "\n",
    "assert os.path.exists(MODEL_SAVE_DIR)\n",
    "print('MODEL_SAVE_DIR = %s' % MODEL_SAVE_DIR)"
   ]
  },
  {
   "cell_type": "code",
   "execution_count": 2,
   "metadata": {
    "colab": {
     "base_uri": "https://localhost:8080/"
    },
    "id": "rgFD0zhmHl0-",
    "outputId": "80eaaa40-3b28-491a-d313-6ae6d894f573"
   },
   "outputs": [
    {
     "name": "stdout",
     "output_type": "stream",
     "text": [
      "Using Pytorch version: 1.13.0+cpu. GPU is NOT available\n"
     ]
    }
   ],
   "source": [
    "import warnings\n",
    "warnings.filterwarnings('ignore')\n",
    "\n",
    "import os, sys, random\n",
    "import numpy as np\n",
    "import pandas as pd\n",
    "import matplotlib.pyplot as plt\n",
    "import seaborn as sns\n",
    "import pathlib\n",
    "import glob\n",
    "\n",
    "# tweaks for libraries\n",
    "np.set_printoptions(precision=6, linewidth=1024, suppress=True)\n",
    "plt.style.use('seaborn')\n",
    "sns.set_style('darkgrid')\n",
    "sns.set_context('notebook',font_scale=1.10)\n",
    "\n",
    "# Pytorch imports\n",
    "import torch\n",
    "gpu_available = torch.cuda.is_available()\n",
    "print('Using Pytorch version: %s. GPU %s available' % (torch.__version__, \"IS\" if gpu_available else \"is NOT\"))\n",
    "import torch.nn as nn\n",
    "import torch.nn.functional as F\n",
    "from torch import optim\n",
    "from torchsummary import summary\n",
    "from torchvision import transforms \n",
    "from tensorflow.keras.preprocessing.image import *\n",
    "# My helper functions for training/evaluating etc.\n",
    "import pytorch_toolkit as pytk\n",
    "\n",
    "SEED = 42\n",
    "random.seed(SEED)\n",
    "np.random.seed(SEED)\n",
    "torch.manual_seed(SEED);\n",
    "\n",
    "if torch.cuda.is_available():\n",
    "    torch.cuda.manual_seed(SEED)\n",
    "    torch.cuda.manual_seed_all(SEED)\n",
    "    torch.backends.cudnn.deterministic = True\n",
    "    torch.backends.cudnn.benchmark = False\n",
    "    #torch.backends.cudnn.enabled = False"
   ]
  },
  {
   "cell_type": "code",
   "execution_count": 3,
   "metadata": {},
   "outputs": [],
   "source": [
    "CLASSES = ['rock', 'paper', 'scissors']"
   ]
  },
  {
   "cell_type": "code",
   "execution_count": 4,
   "metadata": {
    "id": "cuI24DmoIyRP"
   },
   "outputs": [],
   "source": [
    "def get_data(image_paths):\n",
    "    images, labels = [], []\n",
    "\n",
    "    for image_path in image_paths:\n",
    "        image = load_img(image_path, target_size=(32,32), color_mode='grayscale')\n",
    "        image = img_to_array(image)\n",
    "        label_name = image_path.split(os.path.sep) [-2]\n",
    "        label = CLASSES.index(label_name)\n",
    "        label = np.array(label).astype('int32')\n",
    "        images.append(image)\n",
    "        labels.append(label)\n",
    "\n",
    "        #labels = np.expand_dims(labels, axis=0)\n",
    "\n",
    "    return np.array(images), np.array(labels)"
   ]
  },
  {
   "cell_type": "code",
   "execution_count": 5,
   "metadata": {
    "colab": {
     "base_uri": "https://localhost:8080/"
    },
    "id": "_CSq70jBI2KA",
    "outputId": "2bd59575-ac27-4bb9-e9ef-73e6eba2e3d8"
   },
   "outputs": [
    {
     "name": "stdout",
     "output_type": "stream",
     "text": [
      "images.shape: (0,) - labels.shape: (0,)\n"
     ]
    }
   ],
   "source": [
    "file_pattern = pathlib.Path.cwd() / 'data' / 'RockPaperScissors' /  '*' / '*.png'\n",
    "dataset_paths = [*glob.glob(str(file_pattern))]\n",
    "random.shuffle(dataset_paths)\n",
    "images, labels = get_data(dataset_paths)\n",
    "print(f\"images.shape: {images.shape} - labels.shape: {labels.shape}\")"
   ]
  },
  {
   "cell_type": "code",
   "execution_count": 6,
   "metadata": {},
   "outputs": [
    {
     "data": {
      "text/plain": [
       "[]"
      ]
     },
     "execution_count": 6,
     "metadata": {},
     "output_type": "execute_result"
    }
   ],
   "source": [
    "dataset_paths[:10]"
   ]
  },
  {
   "cell_type": "code",
   "execution_count": 7,
   "metadata": {},
   "outputs": [
    {
     "data": {
      "text/plain": [
       "(array([], dtype=int64), array([], dtype=float64))"
      ]
     },
     "execution_count": 7,
     "metadata": {},
     "output_type": "execute_result"
    }
   ],
   "source": [
    "np.bincount(labels.astype('int32')), labels[:10]"
   ]
  },
  {
   "cell_type": "code",
   "execution_count": 8,
   "metadata": {
    "id": "duNxi4RqaVGz"
   },
   "outputs": [],
   "source": [
    "def build_model():\n",
    "    net = nn.Sequential(\n",
    "        nn.Conv2d(1, 32, kernel_size=5, padding=1), # 20\n",
    "        nn.ReLU(),\n",
    "        nn.BatchNorm2d(32),\n",
    "        nn.MaxPool2d(2,2),\n",
    "        nn.Dropout(0.4),\n",
    "\n",
    "        nn.Conv2d(32, 64, kernel_size=5, padding=1), # 32\n",
    "        nn.ReLU(),\n",
    "        nn.BatchNorm2d(64),\n",
    "        nn.MaxPool2d(2,2),\n",
    "        nn.Dropout(0.4),       \n",
    "\n",
    "        nn.Conv2d(64, 64, kernel_size=5, padding=1), # 32\n",
    "        nn.ReLU(),\n",
    "        nn.BatchNorm2d(64),\n",
    "        nn.MaxPool2d(2,2),\n",
    "        nn.Dropout(0.4),     \n",
    "\n",
    "        nn.Flatten(),\n",
    "\n",
    "        nn.Linear(64*2*2, 500),\n",
    "        nn.ReLU(),\n",
    "        nn.Dropout(0.4),\n",
    "\n",
    "        nn.Linear(500, 3)\n",
    "    )\n",
    "\n",
    "    model = pytk.PytkModuleWrapper(net)\n",
    "    # add weights to optimizer due to class imbalance\n",
    "    # weights = torch.FloatTensor(class_counts) / total\n",
    "    # weights = weights.cuda() if torch.cuda.is_available() else weights.cpu()\n",
    "    criterion = nn.CrossEntropyLoss()\n",
    "    optimizer = optim.Adam(params=model.parameters(), lr=0.001)\n",
    "    #optimizer = optim.SGD(params=model.parameters(), lr=0.001)\n",
    "    model.compile(loss=criterion, optimizer=optimizer, metrics=['acc'])\n",
    "    return model"
   ]
  },
  {
   "cell_type": "code",
   "execution_count": 9,
   "metadata": {
    "colab": {
     "base_uri": "https://localhost:8080/"
    },
    "id": "dCfa05E8TBjC",
    "outputId": "e23d017f-ab4d-4c08-c931-b66bbf8f0555"
   },
   "outputs": [
    {
     "ename": "ValueError",
     "evalue": "With n_samples=0, test_size=0.3 and train_size=None, the resulting train set will be empty. Adjust any of the aforementioned parameters.",
     "output_type": "error",
     "traceback": [
      "\u001b[1;31m---------------------------------------------------------------------------\u001b[0m",
      "\u001b[1;31mValueError\u001b[0m                                Traceback (most recent call last)",
      "Input \u001b[1;32mIn [9]\u001b[0m, in \u001b[0;36m<cell line: 4>\u001b[1;34m()\u001b[0m\n\u001b[0;32m      1\u001b[0m \u001b[38;5;28;01mfrom\u001b[39;00m \u001b[38;5;21;01msklearn\u001b[39;00m\u001b[38;5;21;01m.\u001b[39;00m\u001b[38;5;21;01mmodel_selection\u001b[39;00m \u001b[38;5;28;01mimport\u001b[39;00m train_test_split\n\u001b[0;32m      3\u001b[0m \u001b[38;5;66;03m# split dataset into train/test sets in 70:30 ration\u001b[39;00m\n\u001b[1;32m----> 4\u001b[0m X_train, X_test, y_train, y_test \u001b[38;5;241m=\u001b[39m \u001b[43mtrain_test_split\u001b[49m\u001b[43m(\u001b[49m\u001b[43mimages\u001b[49m\u001b[43m,\u001b[49m\u001b[43m \u001b[49m\u001b[43mlabels\u001b[49m\u001b[43m,\u001b[49m\u001b[43m \u001b[49m\u001b[43mtest_size\u001b[49m\u001b[38;5;241;43m=\u001b[39;49m\u001b[38;5;241;43m0.3\u001b[39;49m\u001b[43m,\u001b[49m\u001b[43m \u001b[49m\n\u001b[0;32m      5\u001b[0m \u001b[43m                                                    \u001b[49m\u001b[43mrandom_state\u001b[49m\u001b[38;5;241;43m=\u001b[39;49m\u001b[43mSEED\u001b[49m\u001b[43m,\u001b[49m\u001b[43m \u001b[49m\u001b[43mstratify\u001b[49m\u001b[38;5;241;43m=\u001b[39;49m\u001b[43mlabels\u001b[49m\u001b[43m)\u001b[49m\n\u001b[0;32m      6\u001b[0m \u001b[38;5;66;03m# split the test set into cross-val & test datasets in 80:20 rstio\u001b[39;00m\n\u001b[0;32m      7\u001b[0m \u001b[38;5;66;03m# NOTE: Andrew Ng recommends that, if possible, the test & cv datasets should be drawn\u001b[39;00m\n\u001b[0;32m      8\u001b[0m \u001b[38;5;66;03m# from the same sample\u001b[39;00m\n\u001b[0;32m      9\u001b[0m X_val, X_test, y_val, y_test \u001b[38;5;241m=\u001b[39m train_test_split(X_test, y_test, test_size\u001b[38;5;241m=\u001b[39m\u001b[38;5;241m0.3\u001b[39m, \n\u001b[0;32m     10\u001b[0m                                                 random_state\u001b[38;5;241m=\u001b[39mSEED, stratify\u001b[38;5;241m=\u001b[39my_test)\n",
      "File \u001b[1;32m~\\anaconda3\\lib\\site-packages\\sklearn\\model_selection\\_split.py:2420\u001b[0m, in \u001b[0;36mtrain_test_split\u001b[1;34m(test_size, train_size, random_state, shuffle, stratify, *arrays)\u001b[0m\n\u001b[0;32m   2417\u001b[0m arrays \u001b[38;5;241m=\u001b[39m indexable(\u001b[38;5;241m*\u001b[39marrays)\n\u001b[0;32m   2419\u001b[0m n_samples \u001b[38;5;241m=\u001b[39m _num_samples(arrays[\u001b[38;5;241m0\u001b[39m])\n\u001b[1;32m-> 2420\u001b[0m n_train, n_test \u001b[38;5;241m=\u001b[39m \u001b[43m_validate_shuffle_split\u001b[49m\u001b[43m(\u001b[49m\n\u001b[0;32m   2421\u001b[0m \u001b[43m    \u001b[49m\u001b[43mn_samples\u001b[49m\u001b[43m,\u001b[49m\u001b[43m \u001b[49m\u001b[43mtest_size\u001b[49m\u001b[43m,\u001b[49m\u001b[43m \u001b[49m\u001b[43mtrain_size\u001b[49m\u001b[43m,\u001b[49m\u001b[43m \u001b[49m\u001b[43mdefault_test_size\u001b[49m\u001b[38;5;241;43m=\u001b[39;49m\u001b[38;5;241;43m0.25\u001b[39;49m\n\u001b[0;32m   2422\u001b[0m \u001b[43m\u001b[49m\u001b[43m)\u001b[49m\n\u001b[0;32m   2424\u001b[0m \u001b[38;5;28;01mif\u001b[39;00m shuffle \u001b[38;5;129;01mis\u001b[39;00m \u001b[38;5;28;01mFalse\u001b[39;00m:\n\u001b[0;32m   2425\u001b[0m     \u001b[38;5;28;01mif\u001b[39;00m stratify \u001b[38;5;129;01mis\u001b[39;00m \u001b[38;5;129;01mnot\u001b[39;00m \u001b[38;5;28;01mNone\u001b[39;00m:\n",
      "File \u001b[1;32m~\\anaconda3\\lib\\site-packages\\sklearn\\model_selection\\_split.py:2098\u001b[0m, in \u001b[0;36m_validate_shuffle_split\u001b[1;34m(n_samples, test_size, train_size, default_test_size)\u001b[0m\n\u001b[0;32m   2095\u001b[0m n_train, n_test \u001b[38;5;241m=\u001b[39m \u001b[38;5;28mint\u001b[39m(n_train), \u001b[38;5;28mint\u001b[39m(n_test)\n\u001b[0;32m   2097\u001b[0m \u001b[38;5;28;01mif\u001b[39;00m n_train \u001b[38;5;241m==\u001b[39m \u001b[38;5;241m0\u001b[39m:\n\u001b[1;32m-> 2098\u001b[0m     \u001b[38;5;28;01mraise\u001b[39;00m \u001b[38;5;167;01mValueError\u001b[39;00m(\n\u001b[0;32m   2099\u001b[0m         \u001b[38;5;124m\"\u001b[39m\u001b[38;5;124mWith n_samples=\u001b[39m\u001b[38;5;132;01m{}\u001b[39;00m\u001b[38;5;124m, test_size=\u001b[39m\u001b[38;5;132;01m{}\u001b[39;00m\u001b[38;5;124m and train_size=\u001b[39m\u001b[38;5;132;01m{}\u001b[39;00m\u001b[38;5;124m, the \u001b[39m\u001b[38;5;124m\"\u001b[39m\n\u001b[0;32m   2100\u001b[0m         \u001b[38;5;124m\"\u001b[39m\u001b[38;5;124mresulting train set will be empty. Adjust any of the \u001b[39m\u001b[38;5;124m\"\u001b[39m\n\u001b[0;32m   2101\u001b[0m         \u001b[38;5;124m\"\u001b[39m\u001b[38;5;124maforementioned parameters.\u001b[39m\u001b[38;5;124m\"\u001b[39m\u001b[38;5;241m.\u001b[39mformat(n_samples, test_size, train_size)\n\u001b[0;32m   2102\u001b[0m     )\n\u001b[0;32m   2104\u001b[0m \u001b[38;5;28;01mreturn\u001b[39;00m n_train, n_test\n",
      "\u001b[1;31mValueError\u001b[0m: With n_samples=0, test_size=0.3 and train_size=None, the resulting train set will be empty. Adjust any of the aforementioned parameters."
     ]
    }
   ],
   "source": [
    "from sklearn.model_selection import train_test_split\n",
    "\n",
    "# split dataset into train/test sets in 70:30 ration\n",
    "X_train, X_test, y_train, y_test = train_test_split(images, labels, test_size=0.3, \n",
    "                                                    random_state=SEED, stratify=labels)\n",
    "# split the test set into cross-val & test datasets in 80:20 rstio\n",
    "# NOTE: Andrew Ng recommends that, if possible, the test & cv datasets should be drawn\n",
    "# from the same sample\n",
    "X_val, X_test, y_val, y_test = train_test_split(X_test, y_test, test_size=0.3, \n",
    "                                                random_state=SEED, stratify=y_test)\n",
    "\n",
    "print(f\"X_train.shape: {X_train.shape} - y_train.shape: {y_train.shape} - class dist: {np.bincount(y_train)}\\n\" +\n",
    "      f\"X_val.shape: {X_val.shape} - y_val.shape: {y_val.shape} - class dist: {np.bincount(y_val)}\\n\" +\n",
    "      f\"X_test.shape: {X_test.shape} - y_test.shape: {y_test.shape} - class dist: {np.bincount(y_test)}\") \n",
    "\n",
    "y_train = y_train.astype('float32')\n",
    "y_test = y_test.astype('float32')\n",
    "y_val = y_val.astype('float32')"
   ]
  },
  {
   "cell_type": "code",
   "execution_count": null,
   "metadata": {
    "id": "mQWt86VU3FMs"
   },
   "outputs": [],
   "source": [
    "# define a dataset for Pytorch\n",
    "from torch.utils.data import Dataset, DataLoader\n",
    "from torchvision import transforms\n",
    "\n",
    "class RPSDataset(Dataset):\n",
    "    def __init__(self, x, y, transforms=None):\n",
    "        self.x = x\n",
    "        self.y = torch.LongTensor(y)\n",
    "        self.transforms = transforms\n",
    "\n",
    "    def __len__(self):\n",
    "        return len(self.x)\n",
    "\n",
    "    def __getitem__(self, ix):\n",
    "        x, y = self.x[ix], self.y[ix]\n",
    "        if self.transforms is not None:\n",
    "            x = self.transforms(x)\n",
    "        return x, y\n",
    "\n",
    "train_transforms = transforms.Compose([\n",
    "    transforms.ToTensor(),\n",
    "    transforms.RandomAffine(0, shear=0.2),         # random shear 0.2\n",
    "    transforms.RandomAffine(0, scale=(0.8, 1.2)),  # random zoom 0.2\n",
    "    transforms.RandomRotation(20),\n",
    "    transforms.RandomHorizontalFlip(),   \n",
    "    transforms.RandomVerticalFlip(),     \n",
    "])\n",
    "    \n",
    "image_transforms = transforms.Compose([\n",
    "    transforms.ToTensor()   \n",
    "])"
   ]
  },
  {
   "cell_type": "code",
   "execution_count": null,
   "metadata": {
    "id": "zKAg6yW33FJN"
   },
   "outputs": [],
   "source": [
    "train_dataset = RPSDataset(X_train, y_train, train_transforms)\n",
    "val_dataset = RPSDataset(X_val, y_val, image_transforms)\n",
    "test_dataset = RPSDataset(X_test, y_test, image_transforms)"
   ]
  },
  {
   "cell_type": "code",
   "execution_count": null,
   "metadata": {
    "colab": {
     "base_uri": "https://localhost:8080/",
     "height": 331
    },
    "id": "w3LtH7Nq5jzd",
    "outputId": "ca741f44-9b9c-4b73-8961-1d8910ae4f7b"
   },
   "outputs": [],
   "source": [
    "testloader = DataLoader(test_dataset, batch_size=32, shuffle=True)\n",
    "data_iter = iter(testloader)\n",
    "sample_images, sample_labels = next(data_iter)\n",
    "sample_images, sample_labels = sample_images.cpu().numpy(), sample_labels.cpu().numpy()\n",
    "print(f\"images.shape: {sample_images.shape} - labels.shape: {sample_labels.shape}\")\n",
    "\n",
    "#plt.figure(figsize=(5,5))\n",
    "for i in range(32):\n",
    "    plt.subplot(4, 8, i + 1)\n",
    "    image = sample_images[i]\n",
    "    #print(f\"images[{i}].shape: {image.shape} \")\n",
    "    image = image.transpose((1,2,0))\n",
    "    #print(f\" - AP: images[{i}].shape: {image.shape}\")\n",
    "    #plt.imshow(image.squeeze(), cmap='gray')\n",
    "    plt.imshow(image.squeeze())\n",
    "    plt.axis('off')\n",
    "plt.show()\n",
    "plt.close()"
   ]
  },
  {
   "cell_type": "code",
   "execution_count": null,
   "metadata": {},
   "outputs": [],
   "source": [
    "testloader = DataLoader(train_dataset, batch_size=32, shuffle=True)\n",
    "data_iter = iter(testloader)\n",
    "sample_images, sample_labels = next(data_iter)\n",
    "sample_images, sample_labels = sample_images.cpu().numpy(), sample_labels.cpu().numpy()\n",
    "print(f\"images.shape: {sample_images.shape} - labels.shape: {sample_labels.shape}\")\n",
    "\n",
    "#plt.figure(figsize=(5,5))\n",
    "for i in range(32):\n",
    "    plt.subplot(4, 8, i + 1)\n",
    "    image = sample_images[i]\n",
    "    #print(f\"images[{i}].shape: {image.shape} \")\n",
    "    image = image.transpose((1,2,0))\n",
    "    #print(f\" - AP: images[{i}].shape: {image.shape}\")\n",
    "    #plt.imshow(image.squeeze(), cmap='gray')\n",
    "    plt.imshow(image.squeeze())\n",
    "    plt.axis('off')\n",
    "plt.show()\n",
    "plt.close()"
   ]
  },
  {
   "cell_type": "code",
   "execution_count": null,
   "metadata": {
    "colab": {
     "base_uri": "https://localhost:8080/"
    },
    "id": "aB3oBjp22vTd",
    "outputId": "1c173476-3716-4c38-d8e6-bb290b2ed241"
   },
   "outputs": [],
   "source": [
    "model = build_model()\n",
    "print(model.summary((1, 32, 32)))"
   ]
  },
  {
   "cell_type": "code",
   "execution_count": null,
   "metadata": {
    "colab": {
     "base_uri": "https://localhost:8080/"
    },
    "id": "YBzEq9273FFF",
    "outputId": "77ad0dac-edfc-4a2f-9fff-05eb7e8350f2"
   },
   "outputs": [],
   "source": [
    "# hist = model.fit_dataset(train_dataset, epochs=100, batch_size=32, validation_dataset=val_dataset)\n",
    "hist = model.fit_dataset(train_dataset, epochs=10, batch_size=32, validation_dataset=val_dataset)"
   ]
  },
  {
   "cell_type": "code",
   "execution_count": null,
   "metadata": {
    "colab": {
     "base_uri": "https://localhost:8080/",
     "height": 365
    },
    "id": "uPyKifpU3FB6",
    "outputId": "e1d7eea9-e9cb-41b9-a0c9-de7110b54712"
   },
   "outputs": [],
   "source": [
    "pytk.show_plots(hist, metric='acc', plot_title='Model Performance')"
   ]
  },
  {
   "cell_type": "code",
   "execution_count": null,
   "metadata": {
    "colab": {
     "base_uri": "https://localhost:8080/"
    },
    "id": "3QYVcXZaTBd8",
    "outputId": "bf0f8f98-bad1-41f7-e4ae-5c17f4864489"
   },
   "outputs": [],
   "source": [
    "loss, acc = model.evaluate_dataset(train_dataset)\n",
    "print(f\"Training  -> loss: {loss:.3f} - acc: {acc:.3f}\")\n",
    "loss, acc = model.evaluate_dataset(val_dataset)\n",
    "print(f\"Cross-val -> loss: {loss:.3f} - acc: {acc:.3f}\")\n",
    "loss, acc = model.evaluate_dataset(test_dataset)\n",
    "print(f\"Testing   -> loss: {loss:.3f} - acc: {acc:.3f}\")"
   ]
  },
  {
   "cell_type": "code",
   "execution_count": null,
   "metadata": {},
   "outputs": [],
   "source": [
    "MODEL_SAVE_PATH = './model_states/pytk_rock_paper_scissors.pt'"
   ]
  },
  {
   "cell_type": "code",
   "execution_count": null,
   "metadata": {
    "colab": {
     "base_uri": "https://localhost:8080/"
    },
    "id": "TvUELVWsTBbg",
    "outputId": "c851c979-ad10-4364-e51e-f623f2065e7e"
   },
   "outputs": [],
   "source": [
    "model.save(MODEL_SAVE_PATH)\n",
    "del model"
   ]
  },
  {
   "cell_type": "code",
   "execution_count": null,
   "metadata": {
    "colab": {
     "base_uri": "https://localhost:8080/"
    },
    "id": "mBQAWUIb20za",
    "outputId": "9e56c8df-f4d6-4ec8-ca71-7c9b41ad5797"
   },
   "outputs": [],
   "source": [
    "model = build_model()\n",
    "model.load(MODEL_SAVE_PATH)\n",
    "print(model.summary((1, 32, 32)))"
   ]
  },
  {
   "cell_type": "code",
   "execution_count": null,
   "metadata": {
    "colab": {
     "base_uri": "https://localhost:8080/"
    },
    "id": "xFqSppR_TBVt",
    "outputId": "d0783739-930a-4e87-cb90-80d60ec274e6"
   },
   "outputs": [],
   "source": [
    "probs, y_test = model.predict_dataset(test_dataset)\n",
    "y_pred = np.argmax(probs, axis=1)\n",
    "y_test[:20], y_pred[:20]"
   ]
  },
  {
   "cell_type": "code",
   "execution_count": null,
   "metadata": {
    "colab": {
     "base_uri": "https://localhost:8080/"
    },
    "id": "iYzGXIoGLZeN",
    "outputId": "c6687ccf-b43e-46b9-a7a6-b6d2c0629c7b"
   },
   "outputs": [],
   "source": [
    "print(f\"We got {(y_test == y_pred).sum()} of {len(y_test)} correct!\")"
   ]
  },
  {
   "cell_type": "code",
   "execution_count": null,
   "metadata": {},
   "outputs": [],
   "source": [
    "def create_model(activate_dropout = True, dropout_probability = 0.4):\n",
    "    if activate_dropout:\n",
    "        net = nn.Sequential(\n",
    "            nn.Conv2d(1, 32, kernel_size=5, padding=1), # 20\n",
    "            nn.ReLU(),\n",
    "            nn.BatchNorm2d(32),\n",
    "            nn.MaxPool2d(2,2),\n",
    "            nn.Dropout(dropout_probability),\n",
    "\n",
    "            nn.Conv2d(32, 64, kernel_size=5, padding=1), # 32\n",
    "            nn.ReLU(),\n",
    "            nn.BatchNorm2d(64),\n",
    "            nn.MaxPool2d(2,2),\n",
    "            nn.Dropout(dropout_probability),       \n",
    "\n",
    "            nn.Conv2d(64, 64, kernel_size=5, padding=1), # 32\n",
    "            nn.ReLU(),\n",
    "            nn.BatchNorm2d(64),\n",
    "            nn.MaxPool2d(2,2),\n",
    "            nn.Dropout(dropout_probability),     \n",
    "\n",
    "            nn.Flatten(),\n",
    "\n",
    "            nn.Linear(64*2*2, 500),\n",
    "            nn.ReLU(),\n",
    "            nn.Dropout(dropout_probability),\n",
    "\n",
    "            nn.Linear(500, 3)\n",
    "            )\n",
    "    else:\n",
    "        net = nn.Sequential(\n",
    "            nn.Conv2d(1, 32, kernel_size=5, padding=1), # 20\n",
    "            nn.ReLU(),\n",
    "            nn.BatchNorm2d(32),\n",
    "            nn.MaxPool2d(2,2),\n",
    "\n",
    "            nn.Conv2d(32, 64, kernel_size=5, padding=1), # 32\n",
    "            nn.ReLU(),\n",
    "            nn.BatchNorm2d(64),\n",
    "            nn.MaxPool2d(2,2),\n",
    "\n",
    "            nn.Conv2d(64, 64, kernel_size=5, padding=1), # 32\n",
    "            nn.ReLU(),\n",
    "            nn.BatchNorm2d(64),\n",
    "            nn.MaxPool2d(2,2),\n",
    "\n",
    "            nn.Flatten(),\n",
    "\n",
    "            nn.Linear(64*2*2, 500),\n",
    "            nn.ReLU(),\n",
    "\n",
    "            nn.Linear(500, 3)\n",
    "            )\n",
    "\n",
    "    model = pytk.PytkModuleWrapper(net)\n",
    "    # add weights to optimizer due to class imbalance\n",
    "    # weights = torch.FloatTensor(class_counts) / total\n",
    "    # weights = weights.cuda() if torch.cuda.is_available() else weights.cpu()\n",
    "    criterion = nn.CrossEntropyLoss()\n",
    "    optimizer = optim.Adam(params=model.parameters(), lr=0.001)\n",
    "    #optimizer = optim.SGD(params=model.parameters(), lr=0.001)\n",
    "    model.compile(loss=criterion, optimizer=optimizer, metrics=['acc'])\n",
    "    return model"
   ]
  },
  {
   "cell_type": "code",
   "execution_count": null,
   "metadata": {},
   "outputs": [],
   "source": [
    "model = create_model(activate_dropout = False)"
   ]
  },
  {
   "cell_type": "code",
   "execution_count": null,
   "metadata": {},
   "outputs": [],
   "source": [
    "hist = model.fit_dataset(train_dataset, epochs=100, batch_size=32, validation_dataset=val_dataset)"
   ]
  },
  {
   "cell_type": "code",
   "execution_count": null,
   "metadata": {},
   "outputs": [],
   "source": [
    "pytk.show_plots(hist, metric='acc', plot_title='Model Performance without Dropout Layers')"
   ]
  },
  {
   "cell_type": "code",
   "execution_count": null,
   "metadata": {},
   "outputs": [],
   "source": [
    "model = create_model(activate_dropout = True, dropout_probability = 0.4)"
   ]
  },
  {
   "cell_type": "code",
   "execution_count": null,
   "metadata": {},
   "outputs": [],
   "source": [
    "hist = model.fit_dataset(train_dataset, epochs=100, batch_size=32, validation_dataset=val_dataset)"
   ]
  },
  {
   "cell_type": "code",
   "execution_count": null,
   "metadata": {},
   "outputs": [],
   "source": [
    "pytk.show_plots(hist, metric='acc', plot_title='Model Performance with Dropout Rate = 0.4')"
   ]
  },
  {
   "cell_type": "code",
   "execution_count": null,
   "metadata": {},
   "outputs": [],
   "source": [
    "model = create_model(activate_dropout = True, dropout_probability = 0.2)"
   ]
  },
  {
   "cell_type": "code",
   "execution_count": null,
   "metadata": {},
   "outputs": [],
   "source": [
    "hist = model.fit_dataset(train_dataset, epochs=100, batch_size=32, validation_dataset=val_dataset)"
   ]
  },
  {
   "cell_type": "code",
   "execution_count": null,
   "metadata": {},
   "outputs": [],
   "source": [
    "pytk.show_plots(hist, metric='acc', plot_title='Model Performance with Dropout Rate = 0.2')"
   ]
  },
  {
   "cell_type": "code",
   "execution_count": null,
   "metadata": {},
   "outputs": [],
   "source": [
    "model = create_model(activate_dropout = True, dropout_probability = 0.6)"
   ]
  },
  {
   "cell_type": "code",
   "execution_count": null,
   "metadata": {},
   "outputs": [],
   "source": [
    "hist = model.fit_dataset(train_dataset, epochs=100, batch_size=32, validation_dataset=val_dataset)"
   ]
  },
  {
   "cell_type": "code",
   "execution_count": null,
   "metadata": {},
   "outputs": [],
   "source": [
    "pytk.show_plots(hist, metric='acc', plot_title='Model Performance with Dropout Rate = 0.6')"
   ]
  },
  {
   "cell_type": "code",
   "execution_count": null,
   "metadata": {},
   "outputs": [],
   "source": [
    "model = create_model(activate_dropout = True, dropout_probability = 0.8)"
   ]
  },
  {
   "cell_type": "code",
   "execution_count": null,
   "metadata": {},
   "outputs": [],
   "source": [
    "hist = model.fit_dataset(train_dataset, epochs=100, batch_size=32, validation_dataset=val_dataset)"
   ]
  },
  {
   "cell_type": "code",
   "execution_count": null,
   "metadata": {},
   "outputs": [],
   "source": [
    "pytk.show_plots(hist, metric='acc', plot_title='Model Performance with Dropout Rate = 0.8')"
   ]
  },
  {
   "cell_type": "code",
   "execution_count": null,
   "metadata": {},
   "outputs": [],
   "source": [
    "def create_model(activate_dropout = True, dropout_probability = 0.4, activate_batchnorm = True, optimizer_name = 'Adam'):\n",
    "    layers = []\n",
    "    \n",
    "    # 20\n",
    "    layers.append(nn.Conv2d(1, 32, kernel_size=5, padding=1))\n",
    "    layers.append(nn.ReLU())\n",
    "    if activate_batchnorm:\n",
    "        layers.append(nn.BatchNorm2d(32))\n",
    "    layers.append(nn.MaxPool2d(2,2))\n",
    "    if activate_dropout:\n",
    "        layers.append(nn.Dropout(dropout_probability))\n",
    "    \n",
    "    # 32\n",
    "    layers.append(nn.Conv2d(32, 64, kernel_size=5, padding=1))\n",
    "    layers.append(nn.ReLU())\n",
    "    if activate_batchnorm:\n",
    "        layers.append(nn.BatchNorm2d(64))\n",
    "    layers.append(nn.MaxPool2d(2,2))\n",
    "    if activate_dropout:\n",
    "        layers.append(nn.Dropout(dropout_probability))\n",
    "    \n",
    "    # 64\n",
    "    layers.append(nn.Conv2d(64, 64, kernel_size=5, padding=1))\n",
    "    layers.append(nn.ReLU())\n",
    "    if activate_batchnorm:\n",
    "        layers.append(nn.BatchNorm2d(64))\n",
    "    layers.append(nn.MaxPool2d(2,2))\n",
    "    if activate_dropout:\n",
    "        layers.append(nn.Dropout(dropout_probability))\n",
    "        \n",
    "    layers.append(nn.Flatten())\n",
    "    layers.append(nn.Linear(64*2*2, 500))\n",
    "    layers.append(nn.ReLU())\n",
    "    if activate_dropout:\n",
    "        layers.append(nn.Dropout(dropout_probability))\n",
    "    \n",
    "    layers.append(nn.Linear(500, 3))\n",
    "    \n",
    "    net = nn.Sequential(*layers)\n",
    "    \n",
    "    model = pytk.PytkModuleWrapper(net)\n",
    "\n",
    "    criterion = nn.CrossEntropyLoss()\n",
    "    \n",
    "    if optimizer_name == 'Adam':\n",
    "        optimizer = optim.Adam(params=model.parameters(), lr=0.001)\n",
    "    elif optimizer_name == 'SGD':\n",
    "        optimizer = optim.SGD(params=model.parameters(), lr=0.001)\n",
    "    model.compile(loss=criterion, optimizer=optimizer, metrics=['acc'])\n",
    "    return model"
   ]
  },
  {
   "cell_type": "code",
   "execution_count": null,
   "metadata": {},
   "outputs": [],
   "source": [
    "model = create_model(activate_dropout = True, dropout_probability = 0.4, activate_batchnorm = True, optimizer_name = 'SGD')"
   ]
  },
  {
   "cell_type": "code",
   "execution_count": null,
   "metadata": {},
   "outputs": [],
   "source": [
    "hist = model.fit_dataset(train_dataset, epochs=100, batch_size=32, validation_dataset=val_dataset)"
   ]
  },
  {
   "cell_type": "code",
   "execution_count": null,
   "metadata": {},
   "outputs": [],
   "source": [
    "pytk.show_plots(hist, metric='acc', plot_title='Model Performance With Dropout Rate = 0.4 and SGD Optimizer')"
   ]
  },
  {
   "cell_type": "code",
   "execution_count": null,
   "metadata": {},
   "outputs": [],
   "source": [
    "model = create_model(activate_dropout = False, dropout_probability = 0.4, activate_batchnorm = True, optimizer_name = 'Adam')"
   ]
  },
  {
   "cell_type": "code",
   "execution_count": null,
   "metadata": {},
   "outputs": [],
   "source": [
    "hist = model.fit_dataset(train_dataset, epochs=100, batch_size=32, validation_dataset=val_dataset)"
   ]
  },
  {
   "cell_type": "code",
   "execution_count": null,
   "metadata": {},
   "outputs": [],
   "source": [
    "pytk.show_plots(hist, metric='acc', plot_title='Model Performance With Dropout Rate = 0.4 and SGD Optimizer')"
   ]
  },
  {
   "cell_type": "code",
   "execution_count": null,
   "metadata": {},
   "outputs": [],
   "source": [
    "def run_training(activate_dropout = False, dropout_probability = 0.4, activate_batchnorm = True, optimizer_name = 'Adam'):\n",
    "    model = create_model(activate_dropout, dropout_probability, activate_batchnorm, optimizer_name)\n",
    "    hist = model.fit_dataset(train_dataset, epochs = 100, batch_size=32, validation_dataset=val_dataset)\n",
    "    if not activate_dropout:\n",
    "        pytk.show_plots(hist, metric='acc', plot_title='Model Performance without Dropout Layers')\n",
    "    else:\n",
    "        pytk.show_plots(hist, metric='acc', plot_title='Model Performance with Dropout Rate = ' + str(dropout_probability))\n",
    "        "
   ]
  },
  {
   "cell_type": "code",
   "execution_count": null,
   "metadata": {},
   "outputs": [],
   "source": [
    "run_training(False, 0, False)"
   ]
  },
  {
   "cell_type": "code",
   "execution_count": null,
   "metadata": {},
   "outputs": [],
   "source": [
    "run_training(True, 0.2)"
   ]
  },
  {
   "cell_type": "code",
   "execution_count": null,
   "metadata": {},
   "outputs": [],
   "source": [
    "run_training(True, 0.4)"
   ]
  },
  {
   "cell_type": "code",
   "execution_count": null,
   "metadata": {},
   "outputs": [],
   "source": [
    "run_training(True, 0.8)"
   ]
  },
  {
   "cell_type": "code",
   "execution_count": null,
   "metadata": {},
   "outputs": [],
   "source": [
    "run_training(False, 0)"
   ]
  },
  {
   "cell_type": "code",
   "execution_count": null,
   "metadata": {},
   "outputs": [],
   "source": []
  },
  {
   "cell_type": "code",
   "execution_count": null,
   "metadata": {},
   "outputs": [],
   "source": [
    "\n"
   ]
  },
  {
   "cell_type": "code",
   "execution_count": null,
   "metadata": {},
   "outputs": [],
   "source": []
  },
  {
   "cell_type": "code",
   "execution_count": null,
   "metadata": {},
   "outputs": [],
   "source": []
  }
 ],
 "metadata": {
  "colab": {
   "collapsed_sections": [],
   "name": "Pytorch-Smiles-Binary Classification.ipynb",
   "provenance": []
  },
  "kernelspec": {
   "display_name": "Python 3 (ipykernel)",
   "language": "python",
   "name": "python3"
  },
  "language_info": {
   "codemirror_mode": {
    "name": "ipython",
    "version": 3
   },
   "file_extension": ".py",
   "mimetype": "text/x-python",
   "name": "python",
   "nbconvert_exporter": "python",
   "pygments_lexer": "ipython3",
   "version": "3.9.12"
  }
 },
 "nbformat": 4,
 "nbformat_minor": 1
}
