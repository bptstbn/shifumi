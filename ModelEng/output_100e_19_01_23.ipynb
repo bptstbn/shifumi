Epoch 1 loss: 1.0101356736148697
Accuracy of the network on the test set: 58.516656191074794%
Accuracy of rock : 79.09604519774011%
Accuracy of paper : 47.22753346080306%
Accuracy of scissors : 49.16201117318436%
Epoch 2 loss: 0.7865380350365696
Accuracy of the network on the test set: 62.41357636706474%
Accuracy of rock : 88.70056497175142%
Accuracy of paper : 14.149139579349905%
Accuracy of scissors : 83.42644320297951%
Epoch 3 loss: 0.728306139089975
Accuracy of the network on the test set: 63.670647391577624%
Accuracy of rock : 86.62900188323917%
Accuracy of paper : 48.565965583174%
Accuracy of scissors : 55.679702048417134%
Epoch 4 loss: 0.6776453195566154
Accuracy of the network on the test set: 71.5901948460088%
Accuracy of rock : 88.70056497175142%
Accuracy of paper : 55.06692160611855%
Accuracy of scissors : 70.76350093109869%
Epoch 5 loss: 0.6025625312902841
Accuracy of the network on the test set: 74.16719044626021%
Accuracy of rock : 81.35593220338983%
Accuracy of paper : 65.20076481835564%
Accuracy of scissors : 75.79143389199255%
Epoch 6 loss: 0.5331242260444595
Accuracy of the network on the test set: 78.25267127592709%
Accuracy of rock : 89.6421845574388%
Accuracy of paper : 58.508604206500955%
Accuracy of scissors : 86.21973929236499%
Epoch 7 loss: 0.4832430291606719
Accuracy of the network on the test set: 80.38969201759899%
Accuracy of rock : 91.1487758945386%
Accuracy of paper : 71.31931166347992%
Accuracy of scissors : 78.58472998137803%
Epoch 8 loss: 0.4771060645580292
Accuracy of the network on the test set: 80.8296668761785%
Accuracy of rock : 87.57062146892656%
Accuracy of paper : 78.20267686424474%
Accuracy of scissors : 76.72253258845437%
Epoch 9 loss: 0.4349667300660926
Accuracy of the network on the test set: 83.40666247642991%
Accuracy of rock : 89.45386064030131%
Accuracy of paper : 74.18738049713193%
Accuracy of scissors : 86.40595903165736%
Epoch 10 loss: 0.4450182304324874
Accuracy of the network on the test set: 83.34380892520427%
Accuracy of rock : 84.93408662900188%
Accuracy of paper : 82.02676864244742%
Accuracy of scissors : 83.05400372439479%
Epoch 11 loss: 0.4225862173430891
Accuracy of the network on the test set: 84.34946574481458%
Accuracy of rock : 91.71374764595103%
Accuracy of paper : 78.01147227533461%
Accuracy of scissors : 83.24022346368714%
Epoch 12 loss: 0.3825129609869187
Accuracy of the network on the test set: 84.53802639849151%
Accuracy of rock : 90.01883239171374%
Accuracy of paper : 76.67304015296367%
Accuracy of scissors : 86.77839851024208%
Epoch 13 loss: 0.3809196019029043
Accuracy of the network on the test set: 84.85229415461974%
Accuracy of rock : 91.71374764595103%
Accuracy of paper : 76.8642447418738%
Accuracy of scissors : 85.84729981378027%
Epoch 14 loss: 0.36997439541730537
Accuracy of the network on the test set: 85.9208045254557%
Accuracy of rock : 90.20715630885122%
Accuracy of paper : 78.96749521988528%
Accuracy of scissors : 88.45437616387338%
Epoch 15 loss: 0.3549757928374302
Accuracy of the network on the test set: 86.10936517913262%
Accuracy of rock : 88.32391713747646%
Accuracy of paper : 77.05544933078394%
Accuracy of scissors : 92.73743016759776%
Epoch 16 loss: 0.34296677863023367
Accuracy of the network on the test set: 86.48648648648648%
Accuracy of rock : 87.38229755178908%
Accuracy of paper : 85.8508604206501%
Accuracy of scissors : 86.21973929236499%
Epoch 17 loss: 0.32427278071282856
Accuracy of the network on the test set: 85.9208045254557%
Accuracy of rock : 91.71374764595103%
Accuracy of paper : 77.62906309751435%
Accuracy of scissors : 88.26815642458101%
Epoch 18 loss: 0.3380249638155282
Accuracy of the network on the test set: 86.42363293526084%
Accuracy of rock : 88.88888888888889%
Accuracy of paper : 80.11472275334609%
Accuracy of scissors : 90.13035381750466%
Epoch 19 loss: 0.33415826508797797
Accuracy of the network on the test set: 86.86360779384036%
Accuracy of rock : 90.77212806026365%
Accuracy of paper : 85.8508604206501%
Accuracy of scissors : 83.9851024208566%
Epoch 20 loss: 0.32877069586012736
Accuracy of the network on the test set: 86.29792583280955%
Accuracy of rock : 88.51224105461394%
Accuracy of paper : 87.5717017208413%
Accuracy of scissors : 82.86778398510242%
Epoch 21 loss: 0.32962392701441984
Accuracy of the network on the test set: 86.86360779384036%
Accuracy of rock : 88.51224105461394%
Accuracy of paper : 85.65965583173997%
Accuracy of scissors : 86.40595903165736%
Epoch 22 loss: 0.31290926541908676
Accuracy of the network on the test set: 88.30923947203017%
Accuracy of rock : 91.1487758945386%
Accuracy of paper : 85.65965583173997%
Accuracy of scissors : 88.08193668528864%
Epoch 23 loss: 0.30225151454109744
Accuracy of the network on the test set: 87.99497171590195%
Accuracy of rock : 89.07721280602637%
Accuracy of paper : 87.95411089866157%
Accuracy of scissors : 86.96461824953445%
Epoch 24 loss: 0.3066806571490793
Accuracy of the network on the test set: 87.86926461345065%
Accuracy of rock : 91.33709981167608%
Accuracy of paper : 83.74760994263862%
Accuracy of scissors : 88.45437616387338%
Epoch 25 loss: 0.3032395110790988
Accuracy of the network on the test set: 88.30923947203017%
Accuracy of rock : 88.51224105461394%
Accuracy of paper : 84.70363288718929%
Accuracy of scissors : 91.62011173184358%
Epoch 26 loss: 0.29424873963896053
Accuracy of the network on the test set: 88.12067881835324%
Accuracy of rock : 92.27871939736346%
Accuracy of paper : 80.87954110898661%
Accuracy of scissors : 91.06145251396649%
Epoch 27 loss: 0.2996116271579122
Accuracy of the network on the test set: 89.56631049654305%
Accuracy of rock : 92.46704331450094%
Accuracy of paper : 85.27724665391969%
Accuracy of scissors : 90.87523277467412%
Epoch 28 loss: 0.286048607294818
Accuracy of the network on the test set: 87.68070395977372%
Accuracy of rock : 89.45386064030131%
Accuracy of paper : 85.46845124282983%
Accuracy of scissors : 88.08193668528864%
Epoch 29 loss: 0.2996215915464493
Accuracy of the network on the test set: 86.98931489629165%
Accuracy of rock : 87.75894538606403%
Accuracy of paper : 84.1300191204589%
Accuracy of scissors : 89.01303538175047%
Epoch 30 loss: 0.2855988678084799
Accuracy of the network on the test set: 89.6291640477687%
Accuracy of rock : 90.77212806026365%
Accuracy of paper : 89.10133843212238%
Accuracy of scissors : 89.01303538175047%
Epoch 31 loss: 0.27936841394886913
Accuracy of the network on the test set: 89.00062853551226%
Accuracy of rock : 90.3954802259887%
Accuracy of paper : 87.95411089866157%
Accuracy of scissors : 88.64059590316573%
Epoch 32 loss: 0.2868358797158103
Accuracy of the network on the test set: 88.0578252671276%
Accuracy of rock : 92.090395480226%
Accuracy of paper : 89.10133843212238%
Accuracy of scissors : 83.05400372439479%
Epoch 33 loss: 0.2716658224901521
Accuracy of the network on the test set: 88.81206788183532%
Accuracy of rock : 90.3954802259887%
Accuracy of paper : 87.38049713193116%
Accuracy of scissors : 88.64059590316573%
Epoch 34 loss: 0.2815835739833763
Accuracy of the network on the test set: 88.30923947203017%
Accuracy of rock : 84.7457627118644%
Accuracy of paper : 87.18929254302103%
Accuracy of scissors : 92.92364990689013%
Epoch 35 loss: 0.27176644195275135
Accuracy of the network on the test set: 88.74921433060968%
Accuracy of rock : 89.45386064030131%
Accuracy of paper : 86.61567877629064%
Accuracy of scissors : 90.13035381750466%
Epoch 36 loss: 0.2625669635922076
Accuracy of the network on the test set: 87.80641106222501%
Accuracy of rock : 87.57062146892656%
Accuracy of paper : 85.08604206500956%
Accuracy of scissors : 90.68901303538175%
Epoch 37 loss: 0.27044531397790794
Accuracy of the network on the test set: 88.30923947203017%
Accuracy of rock : 87.94726930320151%
Accuracy of paper : 89.10133843212238%
Accuracy of scissors : 87.89571694599627%
Epoch 38 loss: 0.27123476816229075
Accuracy of the network on the test set: 88.9377749842866%
Accuracy of rock : 92.090395480226%
Accuracy of paper : 83.17399617590821%
Accuracy of scissors : 91.43389199255121%
Epoch 39 loss: 0.2631439098931221
Accuracy of the network on the test set: 87.42928975487115%
Accuracy of rock : 92.090395480226%
Accuracy of paper : 80.68833652007648%
Accuracy of scissors : 89.3854748603352%
Epoch 40 loss: 0.33091609224856616
Accuracy of the network on the test set: 87.74355751099937%
Accuracy of rock : 89.83050847457628%
Accuracy of paper : 83.5564053537285%
Accuracy of scissors : 89.75791433891993%
Epoch 41 loss: 0.27865436583398334
Accuracy of the network on the test set: 89.31489629164048%
Accuracy of rock : 91.90207156308851%
Accuracy of paper : 87.5717017208413%
Accuracy of scissors : 88.45437616387338%
Epoch 42 loss: 0.2589231149618884
Accuracy of the network on the test set: 90.38340666247643%
Accuracy of rock : 90.77212806026365%
Accuracy of paper : 88.7189292543021%
Accuracy of scissors : 91.62011173184358%
Epoch 43 loss: 0.2574058152645467
Accuracy of the network on the test set: 89.37774984286612%
Accuracy of rock : 91.90207156308851%
Accuracy of paper : 86.9980879541109%
Accuracy of scissors : 89.19925512104282%
Epoch 44 loss: 0.2680107484380883
Accuracy of the network on the test set: 90.1948460087995%
Accuracy of rock : 92.090395480226%
Accuracy of paper : 87.76290630975143%
Accuracy of scissors : 90.68901303538175%
Epoch 45 loss: 0.2649234562932727
Accuracy of the network on the test set: 90.38340666247643%
Accuracy of rock : 91.33709981167608%
Accuracy of paper : 88.33652007648183%
Accuracy of scissors : 91.43389199255121%
Epoch 46 loss: 0.25910362816718685
Accuracy of the network on the test set: 90.38340666247643%
Accuracy of rock : 92.27871939736346%
Accuracy of paper : 88.52772466539197%
Accuracy of scissors : 90.31657355679702%
Epoch 47 loss: 0.24985819686967206
Accuracy of the network on the test set: 90.32055311125079%
Accuracy of rock : 94.72693032015066%
Accuracy of paper : 85.8508604206501%
Accuracy of scissors : 90.31657355679702%
Epoch 48 loss: 0.25377107312880365
Accuracy of the network on the test set: 89.6291640477687%
Accuracy of rock : 91.1487758945386%
Accuracy of paper : 88.14531548757171%
Accuracy of scissors : 89.57169459962756%
Epoch 49 loss: 0.2492060460240008
Accuracy of the network on the test set: 90.06913890634821%
Accuracy of rock : 91.1487758945386%
Accuracy of paper : 87.38049713193116%
Accuracy of scissors : 91.62011173184358%
Epoch 50 loss: 0.26342060381030463
Accuracy of the network on the test set: 90.44626021370208%
Accuracy of rock : 92.65536723163842%
Accuracy of paper : 86.9980879541109%
Accuracy of scissors : 91.62011173184358%
Epoch 51 loss: 0.24435215802436852
Accuracy of the network on the test set: 89.94343180389691%
Accuracy of rock : 91.71374764595103%
Accuracy of paper : 87.5717017208413%
Accuracy of scissors : 90.50279329608938%
Epoch 52 loss: 0.2408508366669517
Accuracy of the network on the test set: 89.75487115021998%
Accuracy of rock : 93.22033898305085%
Accuracy of paper : 87.5717017208413%
Accuracy of scissors : 88.45437616387338%
Epoch 53 loss: 0.25185342330530464
Accuracy of the network on the test set: 90.44626021370208%
Accuracy of rock : 91.1487758945386%
Accuracy of paper : 87.95411089866157%
Accuracy of scissors : 92.17877094972067%
Epoch 54 loss: 0.23164495098662663
Accuracy of the network on the test set: 90.00628535512257%
Accuracy of rock : 89.45386064030131%
Accuracy of paper : 87.18929254302103%
Accuracy of scissors : 93.29608938547486%
Epoch 55 loss: 0.24038510428494717
Accuracy of the network on the test set: 90.57196731615336%
Accuracy of rock : 89.83050847457628%
Accuracy of paper : 91.39579349904398%
Accuracy of scissors : 90.50279329608938%
Epoch 56 loss: 0.23260254278240433
Accuracy of the network on the test set: 90.32055311125079%
Accuracy of rock : 91.90207156308851%
Accuracy of paper : 88.7189292543021%
Accuracy of scissors : 90.31657355679702%
Epoch 57 loss: 0.2338775967259005
Accuracy of the network on the test set: 90.69767441860465%
Accuracy of rock : 93.40866290018832%
Accuracy of paper : 89.10133843212238%
Accuracy of scissors : 89.57169459962756%
Epoch 58 loss: 0.23996336120797926
Accuracy of the network on the test set: 90.82338152105594%
Accuracy of rock : 93.03201506591337%
Accuracy of paper : 87.18929254302103%
Accuracy of scissors : 92.17877094972067%
Epoch 59 loss: 0.23692253995013524
Accuracy of the network on the test set: 89.25204274041484%
Accuracy of rock : 89.45386064030131%
Accuracy of paper : 91.96940726577438%
Accuracy of scissors : 86.40595903165736%
Epoch 60 loss: 0.2286445680691535
Accuracy of the network on the test set: 91.07479572595852%
Accuracy of rock : 92.84369114877589%
Accuracy of paper : 89.10133843212238%
Accuracy of scissors : 91.24767225325884%
Epoch 61 loss: 0.23261716755398784
Accuracy of the network on the test set: 90.69767441860465%
Accuracy of rock : 91.33709981167608%
Accuracy of paper : 89.67495219885278%
Accuracy of scissors : 91.06145251396649%
Epoch 62 loss: 0.22496656822152886
Accuracy of the network on the test set: 91.07479572595852%
Accuracy of rock : 93.22033898305085%
Accuracy of paper : 88.7189292543021%
Accuracy of scissors : 91.24767225325884%
Epoch 63 loss: 0.22707509267401982
Accuracy of the network on the test set: 91.45191703331238%
Accuracy of rock : 91.1487758945386%
Accuracy of paper : 90.43977055449331%
Accuracy of scissors : 92.73743016759776%
Epoch 64 loss: 0.21976807147982608
Accuracy of the network on the test set: 90.32055311125079%
Accuracy of rock : 93.40866290018832%
Accuracy of paper : 85.08604206500956%
Accuracy of scissors : 92.36499068901304%
Epoch 65 loss: 0.22035000643816338
Accuracy of the network on the test set: 90.50911376492772%
Accuracy of rock : 90.96045197740114%
Accuracy of paper : 91.01338432122371%
Accuracy of scissors : 89.57169459962756%
Epoch 66 loss: 0.23086659242230725
Accuracy of the network on the test set: 90.50911376492772%
Accuracy of rock : 92.84369114877589%
Accuracy of paper : 89.67495219885278%
Accuracy of scissors : 89.01303538175047%
Epoch 67 loss: 0.22217750396714153
Accuracy of the network on the test set: 90.69767441860465%
Accuracy of rock : 90.96045197740114%
Accuracy of paper : 91.01338432122371%
Accuracy of scissors : 90.13035381750466%
Epoch 68 loss: 0.22580576517495765
Accuracy of the network on the test set: 91.01194217473287%
Accuracy of rock : 93.03201506591337%
Accuracy of paper : 90.82217973231357%
Accuracy of scissors : 89.19925512104282%
Epoch 69 loss: 0.2243148578128901
Accuracy of the network on the test set: 90.32055311125079%
Accuracy of rock : 90.20715630885122%
Accuracy of paper : 87.5717017208413%
Accuracy of scissors : 93.10986964618249%
Epoch 70 loss: 0.21044737190367227
Accuracy of the network on the test set: 90.634820867379%
Accuracy of rock : 91.33709981167608%
Accuracy of paper : 90.63097514340345%
Accuracy of scissors : 89.94413407821229%
Epoch 71 loss: 0.23723328966333204
Accuracy of the network on the test set: 91.01194217473287%
Accuracy of rock : 93.03201506591337%
Accuracy of paper : 89.67495219885278%
Accuracy of scissors : 90.31657355679702%
Epoch 72 loss: 0.21278113113289857
Accuracy of the network on the test set: 90.1948460087995%
Accuracy of rock : 91.1487758945386%
Accuracy of paper : 87.95411089866157%
Accuracy of scissors : 91.43389199255121%
Epoch 73 loss: 0.21043315655495748
Accuracy of the network on the test set: 90.25769956002515%
Accuracy of rock : 89.45386064030131%
Accuracy of paper : 87.76290630975143%
Accuracy of scissors : 93.48230912476723%
Epoch 74 loss: 0.220949497702251
Accuracy of the network on the test set: 90.50911376492772%
Accuracy of rock : 91.52542372881356%
Accuracy of paper : 89.8661567877629%
Accuracy of scissors : 90.13035381750466%
Epoch 75 loss: 0.21475081289389047
Accuracy of the network on the test set: 91.70333123821496%
Accuracy of rock : 93.5969868173258%
Accuracy of paper : 86.9980879541109%
Accuracy of scissors : 94.41340782122904%
Epoch 76 loss: 0.22342262237545957
Accuracy of the network on the test set: 90.76052796983029%
Accuracy of rock : 92.27871939736346%
Accuracy of paper : 88.7189292543021%
Accuracy of scissors : 91.24767225325884%
Epoch 77 loss: 0.21533386445189096
Accuracy of the network on the test set: 91.01194217473287%
Accuracy of rock : 90.58380414312617%
Accuracy of paper : 91.77820267686424%
Accuracy of scissors : 90.68901303538175%
Epoch 78 loss: 0.20899136472179228
Accuracy of the network on the test set: 89.6291640477687%
Accuracy of rock : 88.88888888888889%
Accuracy of paper : 86.23326959847036%
Accuracy of scissors : 93.6685288640596%
Epoch 79 loss: 0.20710780265101467
Accuracy of the network on the test set: 91.3262099308611%
Accuracy of rock : 93.5969868173258%
Accuracy of paper : 86.4244741873805%
Accuracy of scissors : 93.85474860335195%
Epoch 80 loss: 0.20950414949511909
Accuracy of the network on the test set: 90.76052796983029%
Accuracy of rock : 92.65536723163842%
Accuracy of paper : 86.9980879541109%
Accuracy of scissors : 92.5512104283054%
Epoch 81 loss: 0.21714896062411457
Accuracy of the network on the test set: 90.88623507228158%
Accuracy of rock : 93.5969868173258%
Accuracy of paper : 88.33652007648183%
Accuracy of scissors : 90.68901303538175%
Epoch 82 loss: 0.21387894846588731
Accuracy of the network on the test set: 92.01759899434317%
Accuracy of rock : 91.90207156308851%
Accuracy of paper : 89.2925430210325%
Accuracy of scissors : 94.78584729981378%
Epoch 83 loss: 0.19812753661928406
Accuracy of the network on the test set: 91.07479572595852%
Accuracy of rock : 92.090395480226%
Accuracy of paper : 88.91013384321224%
Accuracy of scissors : 92.17877094972067%
Epoch 84 loss: 0.19598530807408943
Accuracy of the network on the test set: 90.25769956002515%
Accuracy of rock : 92.27871939736346%
Accuracy of paper : 87.5717017208413%
Accuracy of scissors : 90.87523277467412%
Epoch 85 loss: 0.21807646428246097
Accuracy of the network on the test set: 91.38906348208674%
Accuracy of rock : 93.03201506591337%
Accuracy of paper : 89.48374760994264%
Accuracy of scissors : 91.62011173184358%
Epoch 86 loss: 0.2063816438866667
Accuracy of the network on the test set: 91.20050282840981%
Accuracy of rock : 91.90207156308851%
Accuracy of paper : 88.14531548757171%
Accuracy of scissors : 93.48230912476723%
Epoch 87 loss: 0.20295271932719702
Accuracy of the network on the test set: 91.7661847894406%
Accuracy of rock : 92.84369114877589%
Accuracy of paper : 91.58699808795411%
Accuracy of scissors : 90.87523277467412%
Epoch 88 loss: 0.21577807776181093
Accuracy of the network on the test set: 91.51477058453803%
Accuracy of rock : 91.71374764595103%
Accuracy of paper : 91.58699808795411%
Accuracy of scissors : 91.24767225325884%
Epoch 89 loss: 0.20226308259080691
Accuracy of the network on the test set: 91.64047768698931%
Accuracy of rock : 92.27871939736346%
Accuracy of paper : 91.39579349904398%
Accuracy of scissors : 91.24767225325884%
Epoch 90 loss: 0.18852625271103468
Accuracy of the network on the test set: 92.3318667504714%
Accuracy of rock : 92.65536723163842%
Accuracy of paper : 92.16061185468452%
Accuracy of scissors : 92.17877094972067%
Epoch 91 loss: 0.21050805697240024
Accuracy of the network on the test set: 92.26901319924576%
Accuracy of rock : 93.03201506591337%
Accuracy of paper : 91.39579349904398%
Accuracy of scissors : 92.36499068901304%
Epoch 92 loss: 0.20448363262666278
Accuracy of the network on the test set: 91.57762413576367%
Accuracy of rock : 91.90207156308851%
Accuracy of paper : 91.20458891013385%
Accuracy of scissors : 91.62011173184358%
Epoch 93 loss: 0.21593938444752292
Accuracy of the network on the test set: 91.64047768698931%
Accuracy of rock : 93.40866290018832%
Accuracy of paper : 88.52772466539197%
Accuracy of scissors : 92.92364990689013%
Epoch 94 loss: 0.19741403571812502
Accuracy of the network on the test set: 92.39472030169705%
Accuracy of rock : 93.22033898305085%
Accuracy of paper : 91.77820267686424%
Accuracy of scissors : 92.17877094972067%
Epoch 95 loss: 0.20181575740676327
Accuracy of the network on the test set: 90.94908862350722%
Accuracy of rock : 91.52542372881356%
Accuracy of paper : 90.43977055449331%
Accuracy of scissors : 90.87523277467412%
Epoch 96 loss: 0.20818666772670055
Accuracy of the network on the test set: 91.45191703331238%
Accuracy of rock : 93.03201506591337%
Accuracy of paper : 90.82217973231357%
Accuracy of scissors : 90.50279329608938%
Epoch 97 loss: 0.19924877619886971
Accuracy of the network on the test set: 91.64047768698931%
Accuracy of rock : 91.71374764595103%
Accuracy of paper : 90.05736137667304%
Accuracy of scissors : 93.10986964618249%
Epoch 98 loss: 0.19542034073586922
Accuracy of the network on the test set: 91.20050282840981%
Accuracy of rock : 92.090395480226%
Accuracy of paper : 89.67495219885278%
Accuracy of scissors : 91.80633147113593%
Epoch 99 loss: 0.20127943750605526
Accuracy of the network on the test set: 92.08045254556882%
Accuracy of rock : 93.22033898305085%
Accuracy of paper : 90.05736137667304%
Accuracy of scissors : 92.92364990689013%
Epoch 100 loss: 0.1984933881784778
Accuracy of the network on the test set: 91.7661847894406%
Accuracy of rock : 94.53860640301318%
Accuracy of paper : 86.80688336520076%
Accuracy of scissors : 93.85474860335195%
